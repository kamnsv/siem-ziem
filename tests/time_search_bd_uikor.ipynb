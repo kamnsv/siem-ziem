{
 "cells": [
  {
   "cell_type": "markdown",
   "id": "f0393422-22ef-476c-a7d4-4e97ecf90f0e",
   "metadata": {},
   "source": [
    "## Тестирование времени обработки хэшей запрещенного ПО по БД УИКОР "
   ]
  },
  {
   "cell_type": "code",
   "execution_count": 10,
   "id": "d1adf5a4-c0d0-4052-9489-80edeb6a3f98",
   "metadata": {},
   "outputs": [],
   "source": [
    "# Библиотеки\n",
    "from datetime import datetime, timedelta\n",
    "import hashlib\n",
    "import random\n",
    "import sys"
   ]
  },
  {
   "cell_type": "code",
   "execution_count": 63,
   "id": "d2ba77eb-9db4-4cb8-ac9b-5f8bfd0cb938",
   "metadata": {},
   "outputs": [],
   "source": [
    "# Создание хэшей\n",
    "happ = set()\n",
    "count = 10000\n",
    "for i in range(count):\n",
    "    h = hashlib.md5(str(i).encode()).hexdigest()\n",
    "    happ.add(h)"
   ]
  },
  {
   "cell_type": "code",
   "execution_count": 60,
   "id": "30045020-1de6-4a70-9494-b0e8b672130e",
   "metadata": {},
   "outputs": [
    {
     "name": "stdout",
     "output_type": "stream",
     "text": [
      "1: 1223985 -> False\n",
      "2: 1588082 -> False\n",
      "3: 1586846 -> False\n",
      "4: 740190 -> True\n",
      "5: 105359 -> True\n",
      "6: 1162273 -> False\n",
      "7: 984072 -> True\n",
      "8: 818790 -> True\n",
      "9: 1252033 -> False\n",
      "10: 1788139 -> False\n",
      "\n",
      "Среднее время поиска: 0:00:00.000005\n"
     ]
    }
   ],
   "source": [
    "# Время поиска без прасига\n",
    "times = []\n",
    "for i in range(10):\n",
    "    n = random.randint(0,2*count)\n",
    "    search = hashlib.md5(str(n).encode()).hexdigest()\n",
    "    \n",
    "    # Поиск\n",
    "    start = datetime.now()\n",
    "    res = search in happ\n",
    "    time = datetime.now() - start\n",
    "    \n",
    "    print(f'{i+1}: {n} -> {res}')\n",
    "    times.append(time.total_seconds())\n",
    "\n",
    "mead = sum(times)/len(times)    \n",
    "print('\\nСреднее время поиска:', timedelta(seconds=mead))"
   ]
  },
  {
   "cell_type": "code",
   "execution_count": 61,
   "id": "f4cde0af-0940-486d-bc42-59fc655c115e",
   "metadata": {},
   "outputs": [],
   "source": [
    "# Функция ZIEM поиска по полям\n",
    "def check_filter(event, filtr):\n",
    "    # проверка события по фильтрам\n",
    "    if event['tax'] not in filtr['tax']:\n",
    "        return False\n",
    "    if 'exc' in filtr:\n",
    "        # проверка исключающего фильтра\n",
    "        for field, value in filtr['exc'].items():\n",
    "            if field in event:\n",
    "                if field == 'time':\n",
    "                    check_field = str(event[field].hour)\n",
    "                else:\n",
    "                    if event[field]:\n",
    "                        check_field = event[field].lower()\n",
    "                if check_field in value:\n",
    "                    return False\n",
    "    if 'inc' in filtr:\n",
    "        # проверка включающего фильтра\n",
    "        for field, value in filtr['inc'].items():\n",
    "            if field not in event:\n",
    "                return False\n",
    "            if field == 'time':\n",
    "                check_field = str(event[field].hour)\n",
    "            else:\n",
    "                check_field = event[field].lower()\n",
    "            if check_field not in value:\n",
    "                return False\n",
    "    if 'diff' in filtr:\n",
    "        # проверка контроля значения\n",
    "        if filtr['diff'] not in event:\n",
    "            return False\n",
    "    return 1"
   ]
  },
  {
   "cell_type": "code",
   "execution_count": 62,
   "id": "dbf56448-cf3e-4995-8b5b-48e450ecd038",
   "metadata": {},
   "outputs": [
    {
     "name": "stdout",
     "output_type": "stream",
     "text": [
      "1: 560443 -> 1\n",
      "2: 1107001 -> False\n",
      "3: 267128 -> 1\n",
      "4: 1595022 -> False\n",
      "5: 458882 -> 1\n",
      "6: 662779 -> 1\n",
      "7: 777011 -> 1\n",
      "8: 1679170 -> False\n",
      "9: 529538 -> 1\n",
      "10: 1033775 -> False\n",
      "\n",
      "Среднее время поиска: 0:00:00.080724\n"
     ]
    }
   ],
   "source": [
    "# Оценка времени поиска в ЗИЕМ\n",
    "times = []\n",
    "\n",
    "filtr = {'tax': '1', \n",
    "         'inc': {'md5': list(happ)}\n",
    "        }\n",
    "\n",
    "for i in range(10):\n",
    "    n = random.randint(0,2*count)\n",
    "    search = hashlib.md5(str(n).encode()).hexdigest()\n",
    "    \n",
    "\n",
    "    event = {'tax':'1', \n",
    "             'md5': search}\n",
    "    \n",
    "    # Поиск\n",
    "    start = datetime.now()\n",
    "    res = check_filter(event, filtr)\n",
    "    time = datetime.now() - start\n",
    "    \n",
    "    print(f'{i+1}: {n} -> {res}')\n",
    "    times.append(time.total_seconds())\n",
    "\n",
    "mead = sum(times)/len(times)    \n",
    "print('\\nСреднее время поиска:', timedelta(seconds=mead))"
   ]
  }
 ],
 "metadata": {
  "kernelspec": {
   "display_name": "Python 3 (ipykernel)",
   "language": "python",
   "name": "python3"
  },
  "language_info": {
   "codemirror_mode": {
    "name": "ipython",
    "version": 3
   },
   "file_extension": ".py",
   "mimetype": "text/x-python",
   "name": "python",
   "nbconvert_exporter": "python",
   "pygments_lexer": "ipython3",
   "version": "3.9.13"
  }
 },
 "nbformat": 4,
 "nbformat_minor": 5
}
