{
 "cells": [
  {
   "cell_type": "markdown",
   "id": "f0393422-22ef-476c-a7d4-4e97ecf90f0e",
   "metadata": {},
   "source": [
    "## Чтение журналов (логов)"
   ]
  },
  {
   "cell_type": "code",
   "execution_count": 183,
   "id": "a0ec0317-ea5e-469b-8957-b9e8818c04ca",
   "metadata": {},
   "outputs": [],
   "source": [
    "import linecache\n",
    "import os"
   ]
  },
  {
   "cell_type": "code",
   "execution_count": 189,
   "id": "7e3870fb-7ba4-4016-a47c-6eb9b169cbe5",
   "metadata": {},
   "outputs": [
    {
     "data": {
      "text/plain": [
       "['user.log 09-14-2022 17:02:01~INFO~192.168.154.107 - - [14/Sep/2022 17:02:01] \"\\x1b[35m\\x1b[1m\\x16\\x03\\x01\\x02\\x00\\x01\\x00\\x01ü\\x03\\x03\\x9c\\x1f\\x9eÝ\\x0b\\x92EQíÑh)4íÊ³?¬%o\\x97¤nT¥Â\\x07¥\\x8aÃªÇ \\x90Å\\x05º\\x07ç\\x01V¼W\\x88\\x06ÔóÎ\\x19[Ü}\\xa0\\x8fh\\x89m\\x9fÍã,|T¨\\x8e\\x00 \\x1b[0m\" HTTPStatus.BAD_REQUEST -\\n',\n",
       " \"user.log 09-14-2022 17:02:01~ERROR~192.168.154.107 - - [14/Sep/2022 17:02:01] code 400, message Bad request version ('\\\\x8fh\\\\x89m\\\\x9fÍã,|T¨\\\\x8e\\\\x00')\\n\",\n",
       " 'user.log \\x19À\\x86EY\\x92÷\\x00 \\x1a\\x1a\\x13\\x01\\x13\\x02\\x13\\x03À+À/À,À0Ì©Ì¨À\\x13À\\x14\\x00\\x9c\\x00\\x9d\\x00/\\x005\\x01\\x00\\x01\\x93úú\\x00\\x00\\x00\\x17\\x00\\x00ÿ\\x01\\x00\\x01\\x00\\x00\\x1b[0m\" HTTPStatus.BAD_REQUEST -\\n',\n",
       " \"user.log 09-14-2022 17:02:01~ERROR~192.168.154.107 - - [14/Sep/2022 17:02:01] code 400, message Bad request version ('\\\\x1a\\\\x1a\\\\x13\\\\x01\\\\x13\\\\x02\\\\x13\\\\x03À+À/À,À0Ì©Ì¨À\\\\x13À\\\\x14\\\\x00\\\\x9c\\\\x00\\\\x9d\\\\x00/\\\\x005\\\\x01\\\\x00\\\\x01\\\\x93úú\\\\x00\\\\x00\\\\x00\\\\x17\\\\x00\\\\x00ÿ\\\\x01\\\\x00\\\\x01\\\\x00\\\\x00')\\n\",\n",
       " 'user.log 09-14-2022 17:02:01~INFO~192.168.154.107 - - [14/Sep/2022 17:02:01] \"\\x1b[35m\\x1b[1m\\x16\\x03\\x01\\x02\\x00\\x01\\x00\\x01ü\\x03\\x03¢xö^´Bþè¤!d¢\\x03¬H\\x111 \\x06\\x90±ÕK\\x02v0·J\\x9b·Qg \\x16^.zÍ}±\\x88[y\\x1dF\\x0c\\x1aO½npý\\x82\\x13¬C\\x05GÅ\\x942OµÅ2\\x00 \\x8a\\x8a\\x13\\x01\\x13\\x02\\x13\\x03À+À/À,À0Ì©Ì¨À\\x13À\\x14\\x00\\x9c\\x00\\x9d\\x00/\\x005\\x01\\x00\\x01\\x93\\x8a\\x8a\\x00\\x00\\x00\\x17\\x00\\x00ÿ\\x01\\x00\\x01\\x00\\x00\\x1b[0m\" HTTPStatus.BAD_REQUEST -\\n',\n",
       " \"user.log 09-14-2022 17:02:01~ERROR~192.168.154.107 - - [14/Sep/2022 17:02:01] code 400, message Bad request version ('\\\\x8a\\\\x8a\\\\x13\\\\x01\\\\x13\\\\x02\\\\x13\\\\x03À+À/À,À0Ì©Ì¨À\\\\x13À\\\\x14\\\\x00\\\\x9c\\\\x00\\\\x9d\\\\x00/\\\\x005\\\\x01\\\\x00\\\\x01\\\\x93\\\\x8a\\\\x8a\\\\x00\\\\x00\\\\x00\\\\x17\\\\x00\\\\x00ÿ\\\\x01\\\\x00\\\\x01\\\\x00\\\\x00')\\n\",\n",
       " 'user.log 09-14-2022 17:02:01~INFO~192.168.154.107 - - [14/Sep/2022 17:02:01] \"\\x1b[35m\\x1b[1m\\x16\\x03\\x01\\x02\\x00\\x01\\x00\\x01ü\\x03\\x03¤«¥ÝÏ5º\\x95Á\\x19\\x9fVü\\x1b[0m\" HTTPStatus.BAD_REQUEST -\\n',\n",
       " \"user.log 09-14-2022 17:02:01~ERROR~192.168.154.107 - - [14/Sep/2022 17:02:01] code 400, message Bad request syntax ('\\\\x16\\\\x03\\\\x01\\\\x02\\\\x00\\\\x01\\\\x00\\\\x01ü\\\\x03\\\\x03¤«¥ÝÏ5º\\\\x95Á\\\\x19\\\\x9fVü')\\n\",\n",
       " 'user.log 09-14-2022 17:02:00~INFO~192.168.154.107 - - [14/Sep/2022 17:02:00] \"\\x1b[35m\\x1b[1m\\x16\\x03\\x01\\x02\\x00\\x01\\x00\\x01ü\\x03\\x03£ä\\x1d8\\x93ãl[\\x950;pÆ§\\x87\\x80j¦#®aë=júX×HeÍ`¤ \\x04l0Y\\x19Ç\\x89EÈ×U»Æ§d\\x0cüº\\x0f\\x16-\\x87x0#~èç÷äê¢\\x00 \\x9a\\x9a\\x13\\x01\\x13\\x02\\x13\\x03À+À/À,À0Ì©Ì¨À\\x13À\\x14\\x00\\x9c\\x00\\x9d\\x00/\\x005\\x01\\x00\\x01\\x93**\\x00\\x00\\x00\\x17\\x00\\x00ÿ\\x01\\x00\\x01\\x00\\x00\\x1b[0m\" HTTPStatus.BAD_REQUEST -\\n',\n",
       " \"user.log 09-14-2022 17:02:00~ERROR~192.168.154.107 - - [14/Sep/2022 17:02:00] code 400, message Bad request version ('\\\\x9a\\\\x9a\\\\x13\\\\x01\\\\x13\\\\x02\\\\x13\\\\x03À+À/À,À0Ì©Ì¨À\\\\x13À\\\\x14\\\\x00\\\\x9c\\\\x00\\\\x9d\\\\x00/\\\\x005\\\\x01\\\\x00\\\\x01\\\\x93**\\\\x00\\\\x00\\\\x00\\\\x17\\\\x00\\\\x00ÿ\\\\x01\\\\x00\\\\x01\\\\x00\\\\x00')\\n\",\n",
       " 'user.log 09-14-2022 17:02:00~INFO~192.168.154.107 - - [14/Sep/2022 17:02:00] \"\\x1b[35m\\x1b[1m\\x16\\x03\\x01\\x02\\x00\\x01\\x00\\x01ü\\x03\\x03ÌR\\x19àûhý\\x00+¯W\\x97ÁòºKàÍjð +\\x1b\\x0cÐ¤K\\x03Q\\x89A\\x08 &¼îê]\\x15©\\x121i\\x17§äOM\\x92s×öüg\\x8d\\x0f\\x97¸V^U©/\\x0có\\x00 \\x8a\\x8a\\x13\\x01\\x13\\x02\\x13\\x03À+À/À,À0Ì©Ì¨À\\x13À\\x14\\x00\\x9c\\x00\\x9d\\x00/\\x005\\x01\\x00\\x01\\x93ZZ\\x00\\x00\\x00\\x17\\x00\\x00ÿ\\x01\\x00\\x01\\x00\\x00\\x1b[0m\" HTTPStatus.BAD_REQUEST -\\n',\n",
       " \"user.log 09-14-2022 17:02:00~ERROR~192.168.154.107 - - [14/Sep/2022 17:02:00] code 400, message Bad request version ('\\\\x8a\\\\x8a\\\\x13\\\\x01\\\\x13\\\\x02\\\\x13\\\\x03À+À/À,À0Ì©Ì¨À\\\\x13À\\\\x14\\\\x00\\\\x9c\\\\x00\\\\x9d\\\\x00/\\\\x005\\\\x01\\\\x00\\\\x01\\\\x93ZZ\\\\x00\\\\x00\\\\x00\\\\x17\\\\x00\\\\x00ÿ\\\\x01\\\\x00\\\\x01\\\\x00\\\\x00')\\n\",\n",
       " 'user.log 9v\\x14\\x99ô9X\\x182\\x87\\x0f\\x9f-´\\x89ú§_563 WG\\x99\\x91\\x16¹Õ^ðR§\\t \\x99O\\x97ã\\x0fE\\x86ÝL9\\x0e\\x96\\\\¥T\\x89ñ!Ö\\x00 \\x1a\\x1a\\x13\\x01\\x13\\x02\\x13\\x03À+À/À,À0Ì©Ì¨À\\x13À\\x14\\x00\\x9c\\x00\\x9d\\x00/\\x005\\x01\\x00\\x01\\x93JJ\\x00\\x00\\x00\\x17\\x00\\x00ÿ\\x01\\x00\\x01\\x00\\x00\\x1b[0m\" HTTPStatus.BAD_REQUEST -\\n',\n",
       " \"user.log 09-14-2022 17:02:00~ERROR~192.168.154.107 - - [14/Sep/2022 17:02:00] code 400, message Bad request version ('\\\\x1a\\\\x1a\\\\x13\\\\x01\\\\x13\\\\x02\\\\x13\\\\x03À+À/À,À0Ì©Ì¨À\\\\x13À\\\\x14\\\\x00\\\\x9c\\\\x00\\\\x9d\\\\x00/\\\\x005\\\\x01\\\\x00\\\\x01\\\\x93JJ\\\\x00\\\\x00\\\\x00\\\\x17\\\\x00\\\\x00ÿ\\\\x01\\\\x00\\\\x01\\\\x00\\\\x00')\\n\",\n",
       " 'user.log 09-14-2022 17:02:00~INFO~192.168.154.107 - - [14/Sep/2022 17:02:00] \"\\x1b[35m\\x1b[1m\\x16\\x03\\x01\\x02\\x00\\x01\\x00\\x01ü\\x03\\x03vuè!Øÿ<J\\x83ò9D\\x03\\x11\\x8fðP¿öA¨_\\x9e\\x82½}!Aíªî% ò]çO\\x00\\x94\\x94\\x81\\x19%;\\x8f\\x046ñø\\x13s\\x89\\x95L\\x873ÑNÜQ\\x8díV\\x8e\\x96\\x00 êê\\x13\\x01\\x13\\x02\\x13\\x03À+À/À,À0Ì©Ì¨À\\x13À\\x14\\x00\\x9c\\x00\\x9d\\x00/\\x005\\x01\\x00\\x01\\x93ºº\\x00\\x00\\x00\\x17\\x00\\x00ÿ\\x01\\x00\\x01\\x00\\x00\\x1b[0m\" HTTPStatus.BAD_REQUEST -\\n',\n",
       " \"user.log 09-14-2022 17:02:00~ERROR~192.168.154.107 - - [14/Sep/2022 17:02:00] code 400, message Bad request version ('êê\\\\x13\\\\x01\\\\x13\\\\x02\\\\x13\\\\x03À+À/À,À0Ì©Ì¨À\\\\x13À\\\\x14\\\\x00\\\\x9c\\\\x00\\\\x9d\\\\x00/\\\\x005\\\\x01\\\\x00\\\\x01\\\\x93ºº\\\\x00\\\\x00\\\\x00\\\\x17\\\\x00\\\\x00ÿ\\\\x01\\\\x00\\\\x01\\\\x00\\\\x00')\\n\",\n",
       " 'user.log 09-14-2022 17:01:56~INFO~192.168.154.107 - - [14/Sep/2022 17:01:56] \"\\x1b[35m\\x1b[1m\\x16\\x03\\x01\\x02\\x00\\x01\\x00\\x01ü\\x03\\x03K\\x18!n0\\x07\\x08¿\\x9dªö\\'ùÈ»ÁÆ¬i\\x1dã\\x08Ú¥Êö@YMe{/ WÑö=J\\x9cKL\\x17ñCøt¼?î/W\\x8ebò4J§+\\x95{©\\x07°ðC\\x00 \\x1b[0m\" HTTPStatus.BAD_REQUEST -\\n',\n",
       " \"user.log 09-14-2022 17:01:56~ERROR~192.168.154.107 - - [14/Sep/2022 17:01:56] code 400, message Bad request version ('WÑö=J\\\\x9cKL\\\\x17ñCøt¼?î/W\\\\x8ebò4J§+\\\\x95{©\\\\x07°ðC\\\\x00')\\n\",\n",
       " 'user.log 09-14-2022 17:01:56~INFO~192.168.154.107 - - [14/Sep/2022 17:01:56] \"\\x1b[35m\\x1b[1m\\x16\\x03\\x01\\x02\\x00\\x01\\x00\\x01ü\\x03\\x03æ¬\\x952ßÑÖú°°y\\x9a#Ý\\x81qå\\x88sÛ£\\'É·\\x1cR÷\\x08{Ôx¡ ³\\x99\\x7fYiU«§:xl)3ñ\\x8d\\tjÇºIAÐ\\x88\\x98\\x12\\x9e&\\x9e\\x01+è9\\x00 \\x1a\\x1a\\x13\\x01\\x13\\x02\\x13\\x03À+À/À,À0Ì©Ì¨À\\x13À\\x14\\x00\\x9c\\x00\\x9d\\x00/\\x005\\x01\\x00\\x01\\x93ºº\\x00\\x00\\x00\\x17\\x00\\x00ÿ\\x01\\x00\\x01\\x00\\x00\\x1b[0m\" HTTPStatus.BAD_REQUEST -\\n',\n",
       " \"user.log 09-14-2022 17:01:56~ERROR~192.168.154.107 - - [14/Sep/2022 17:01:56] code 400, message Bad request version ('\\\\x1a\\\\x1a\\\\x13\\\\x01\\\\x13\\\\x02\\\\x13\\\\x03À+À/À,À0Ì©Ì¨À\\\\x13À\\\\x14\\\\x00\\\\x9c\\\\x00\\\\x9d\\\\x00/\\\\x005\\\\x01\\\\x00\\\\x01\\\\x93ºº\\\\x00\\\\x00\\\\x00\\\\x17\\\\x00\\\\x00ÿ\\\\x01\\\\x00\\\\x01\\\\x00\\\\x00')\\n\",\n",
       " 'user.log hP\\x13\\x00 **\\x13\\x01\\x13\\x02\\x13\\x03À+À/À,À0Ì©Ì¨À\\x13À\\x14\\x00\\x9c\\x00\\x9d\\x00/\\x005\\x01\\x00\\x01\\x93ÊÊ\\x00\\x00\\x00\\x17\\x00\\x00ÿ\\x01\\x00\\x01\\x00\\x00\\x1b[0m\" HTTPStatus.BAD_REQUEST -\\n',\n",
       " \"user.log 09-14-2022 17:01:56~ERROR~192.168.154.107 - - [14/Sep/2022 17:01:56] code 400, message Bad request version ('**\\\\x13\\\\x01\\\\x13\\\\x02\\\\x13\\\\x03À+À/À,À0Ì©Ì¨À\\\\x13À\\\\x14\\\\x00\\\\x9c\\\\x00\\\\x9d\\\\x00/\\\\x005\\\\x01\\\\x00\\\\x01\\\\x93ÊÊ\\\\x00\\\\x00\\\\x00\\\\x17\\\\x00\\\\x00ÿ\\\\x01\\\\x00\\\\x01\\\\x00\\\\x00')\\n\",\n",
       " 'user.log 09-14-2022 17:01:56~INFO~192.168.154.107 - - [14/Sep/2022 17:01:56] \"\\x1b[35m\\x1b[1m\\x16\\x03\\x01\\x02\\x00\\x01\\x00\\x01ü\\x03\\x03ªÚ\\x97íê:ÐëQ5¨tRü-P?î\\x88î\\x98\\x9ex©LQF\\x99£´Ö· \\x1aÖ\\x1d×\\x0f\\x07á{ôSË+²tMª\\x0b§ù@>èµ$\\x1bÞ.\\x1b\\x0eÃÒ³\\x00 \\x8a\\x8a\\x13\\x01\\x13\\x02\\x13\\x03À+À/À,À0Ì©Ì¨À\\x13À\\x14\\x00\\x9c\\x00\\x9d\\x00/\\x005\\x01\\x00\\x01\\x93JJ\\x00\\x00\\x00\\x17\\x00\\x00ÿ\\x01\\x00\\x01\\x00\\x00\\x1b[0m\" HTTPStatus.BAD_REQUEST -\\n',\n",
       " \"user.log 09-14-2022 17:01:56~ERROR~192.168.154.107 - - [14/Sep/2022 17:01:56] code 400, message Bad request version ('\\\\x8a\\\\x8a\\\\x13\\\\x01\\\\x13\\\\x02\\\\x13\\\\x03À+À/À,À0Ì©Ì¨À\\\\x13À\\\\x14\\\\x00\\\\x9c\\\\x00\\\\x9d\\\\x00/\\\\x005\\\\x01\\\\x00\\\\x01\\\\x93JJ\\\\x00\\\\x00\\\\x00\\\\x17\\\\x00\\\\x00ÿ\\\\x01\\\\x00\\\\x01\\\\x00\\\\x00')\\n\",\n",
       " 'user.log 09-14-2022 17:01:56~INFO~192.168.154.107 - - [14/Sep/2022 17:01:56] \"\\x1b[35m\\x1b[1m\\x16\\x03\\x01\\x02\\x00\\x01\\x00\\x01ü\\x03\\x03¼n(b]É@\\t\\x1a\\t\\x1ah\\x0c\\x14\\x08õ¬GU#õq\\x1a¹\\x85Èfÿ,\\x82\\x14e ©Û\\x9c.â\\x8bëÄÄ\\x85+ù¥I\\x17\\x82z\\x82\\x1b[0m\" HTTPStatus.BAD_REQUEST -\\n']"
      ]
     },
     "execution_count": 189,
     "metadata": {},
     "output_type": "execute_result"
    }
   ],
   "source": [
    "class Journal:\n",
    "       \n",
    "    def __init__(self, fname, search=None):\n",
    "        self.fname = fname\n",
    "        self.search = search\n",
    "        j, b = 1, 0 \n",
    "        self.nav = []\n",
    "        while os.path.isfile(fname):\n",
    "            linecache.checkcache(fname)\n",
    "            a = b\n",
    "            b, mapping = self.get_mapping(fname)\n",
    "            b = a + b\n",
    "            schema = {\n",
    "                'path': fname,\n",
    "                'a': a,\n",
    "                'b': b,\n",
    "                'map': mapping\n",
    "            }\n",
    "            self.nav.append(schema)\n",
    "            fname = self.fname + f'.{j}'\n",
    "            j += 1\n",
    "    \n",
    "    def get_count_lines(self, fname):\n",
    "        with open(fname, 'r') as f:\n",
    "            for count, _ in enumerate(f): pass\n",
    "        return count + 1\n",
    "    \n",
    "    def get_mapping(self, fname):\n",
    "        count = 0\n",
    "        mapping = {}\n",
    "        with open(fname, 'r') as f:\n",
    "            for i, line in enumerate(f):\n",
    "                if not self.search: \n",
    "                    count += 1\n",
    "                elif self.search in line:\n",
    "                    mapping[count] = i\n",
    "                    count += 1\n",
    "        return count, mapping\n",
    "    \n",
    "    def get_count_pages(self, fname, per=25):\n",
    "        lines = self.get_count_lines(fname)\n",
    "        count = lines // per + (lines % per > 0)\n",
    "        return count\n",
    "    \n",
    "    def get_line(self, fname, n):\n",
    "        return os.path.basename(fname)+' '+linecache.getline(fname, n)\n",
    "    \n",
    "    def get_total_lines(self):\n",
    "        return self.nav[-1]['b']\n",
    "        \n",
    "    def get_total_pages(self, per=25):\n",
    "        lines = self.get_total_lines()\n",
    "        total = lines // per + (lines % per > 0)\n",
    "        return total\n",
    "    \n",
    "    def get_total_line(self, n):\n",
    "        for s in self.nav:\n",
    "            if n >= s['a'] and n < s['b']:\n",
    "                if not len(s['map']):\n",
    "                    return self.get_line(s['path'], s['b'] - n)\n",
    "                else:\n",
    "                    return self.get_line(s['path'], \n",
    "                                         s['map'][s['b'] - s['map'][n]])\n",
    "    \n",
    "    def items(self, page=1, per=25):\n",
    "        lines = []\n",
    "        for i in range((page-1)*per, page*per):\n",
    "            line = self.get_total_line(i)\n",
    "            if line is None: continue\n",
    "            lines.append(line)\n",
    "        return lines        \n",
    "\n",
    "    \n",
    "fname = '/var/log/ziem/user.log'\n",
    "per = 25\n",
    "journal = Journal(fname, '09-14-2022')\n",
    "journal.items(2)"
   ]
  },
  {
   "cell_type": "code",
   "execution_count": 182,
   "id": "6d609800-1c67-4d05-89ce-360f6a0086e4",
   "metadata": {},
   "outputs": [
    {
     "data": {
      "text/plain": [
       "'10-22-2022-191739info192168154107-22oct2022-191739-get-optopt_bksget-http11-200'"
      ]
     },
     "execution_count": 182,
     "metadata": {},
     "output_type": "execute_result"
    }
   ],
   "source": [
    "s = '10-22-2022 19:17:39~INFO~192.168.154.107 - - [22/Oct/2022 19:17:39] \"GET /opt/opt_bks/get HTTP/1.1\" 200 -\\n'\n",
    "import re\n",
    "s = re.sub(r'[^\\w\\s-]', '', s.lower())\n",
    "re.sub(r'[-\\s]+', '-', s).strip('-_')[:500]"
   ]
  },
  {
   "cell_type": "code",
   "execution_count": 169,
   "id": "ec639883-b7c7-4d2a-8572-e6f2da2e0674",
   "metadata": {},
   "outputs": [
    {
     "data": {
      "text/plain": [
       "'09-13-2022 09:07:41~WARNING~ * Running on all addresses.\\n'"
      ]
     },
     "execution_count": 169,
     "metadata": {},
     "output_type": "execute_result"
    }
   ],
   "source": [
    "linecache.getline(fname+'.1', 79839)"
   ]
  },
  {
   "cell_type": "code",
   "execution_count": 154,
   "id": "ef2ed003-c49e-49b8-b5d8-b556a21564b4",
   "metadata": {},
   "outputs": [
    {
     "data": {
      "text/plain": [
       "False"
      ]
     },
     "execution_count": 154,
     "metadata": {},
     "output_type": "execute_result"
    }
   ],
   "source": [
    "'10-22-2022 19:17:40' in '10-22-2022 19:17:39~INFO~192.168.154.107 - - [22/Oct/2022 19:17:39] \"GET /opt/opt_bks/get HTTP/1.1\" 200 -\\n'"
   ]
  }
 ],
 "metadata": {
  "kernelspec": {
   "display_name": "Python 3 (ipykernel)",
   "language": "python",
   "name": "python3"
  },
  "language_info": {
   "codemirror_mode": {
    "name": "ipython",
    "version": 3
   },
   "file_extension": ".py",
   "mimetype": "text/x-python",
   "name": "python",
   "nbconvert_exporter": "python",
   "pygments_lexer": "ipython3",
   "version": "3.9.13"
  }
 },
 "nbformat": 4,
 "nbformat_minor": 5
}
