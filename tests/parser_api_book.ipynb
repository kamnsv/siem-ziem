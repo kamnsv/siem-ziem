{
 "cells": [
  {
   "cell_type": "code",
   "execution_count": 2,
   "id": "4d119434-3e2b-49d2-87da-bd9b7a2bbea5",
   "metadata": {},
   "outputs": [],
   "source": [
    "import requests"
   ]
  },
  {
   "cell_type": "code",
   "execution_count": 49,
   "id": "abe271ff-fe48-4d7a-989f-1df8ff529b95",
   "metadata": {},
   "outputs": [
    {
     "name": "stderr",
     "output_type": "stream",
     "text": [
      "/usr/local/lib/python3.9/site-packages/urllib3/connectionpool.py:1043: InsecureRequestWarning: Unverified HTTPS request is being made to host '192.168.154.8'. Adding certificate verification is strongly advised. See: https://urllib3.readthedocs.io/en/1.26.x/advanced-usage.html#ssl-warnings\n",
      "  warnings.warn(\n"
     ]
    },
    {
     "data": {
      "text/plain": [
       "{'data': [{'content': '22345324343434', 'desc': \"ntcnjds ['i\"},\n",
       "  {'content': '54h56h4', 'desc': '35455t45t'}]}"
      ]
     },
     "execution_count": 49,
     "metadata": {},
     "output_type": "execute_result"
    }
   ],
   "source": [
    "data_raw = requests.get('https://192.168.154.8:45000/api/book/wht', verify=False)\n",
    "raw = data_raw.json()\n",
    "raw"
   ]
  },
  {
   "cell_type": "code",
   "execution_count": 51,
   "id": "2d71e85b-1a54-43c3-9be4-d32270417145",
   "metadata": {},
   "outputs": [
    {
     "data": {
      "text/plain": [
       "[{'name': '22345324343434', 'desc': \"ntcnjds ['i\"},\n",
       " {'name': '54h56h4', 'desc': '35455t45t'}]"
      ]
     },
     "execution_count": 51,
     "metadata": {},
     "output_type": "execute_result"
    }
   ],
   "source": [
    "key_list = 'data'\n",
    "key_value = 'content'\n",
    "\n",
    "def parse_data(raw, key_list=None, key_value='name'):\n",
    "        data = []\n",
    "        \n",
    "        data_list = raw\n",
    "\n",
    "        if key_list:\n",
    "\n",
    "            for k in key_list.split('.'):\n",
    "                data_list = data_list.get(k)\n",
    "\n",
    "               \n",
    "        for row in data_list:\n",
    "            item = {'name':'', 'desc':[]}\n",
    "            \n",
    "\n",
    "            for k in key_value.split('.')[:-1]:\n",
    "                row = row[k]\n",
    "  \n",
    "            for k in row:\n",
    "                    if k == key_value.split('.')[-1]:\n",
    "                        item['name'] = row[k]\n",
    "                    else:\n",
    "                        item['desc'].append(row[k])\n",
    "                    \n",
    "            item['desc'] = ', '.join(item['desc'])\n",
    "            data.append(item)\n",
    "        return data\n",
    "    \n",
    "parse_data(raw, key_list, key_value)"
   ]
  }
 ],
 "metadata": {
  "kernelspec": {
   "display_name": "Python 3 (ipykernel)",
   "language": "python",
   "name": "python3"
  },
  "language_info": {
   "codemirror_mode": {
    "name": "ipython",
    "version": 3
   },
   "file_extension": ".py",
   "mimetype": "text/x-python",
   "name": "python",
   "nbconvert_exporter": "python",
   "pygments_lexer": "ipython3",
   "version": "3.9.13"
  }
 },
 "nbformat": 4,
 "nbformat_minor": 5
}
